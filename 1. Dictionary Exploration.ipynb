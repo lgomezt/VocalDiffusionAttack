{
 "cells": [
  {
   "cell_type": "markdown",
   "metadata": {},
   "source": [
    "# Dictionary Exploration\n",
    "This notebook explores the files in `../Dataset/cv-corpus-20.0-delta-2024-12-06/en`.\n",
    "\n",
    "> **Conclusion:** The information in the dictionaries is limited and useless. There is no way to match the dictionaries with the audios."
   ]
  },
  {
   "cell_type": "code",
   "execution_count": 1,
   "metadata": {},
   "outputs": [],
   "source": [
    "import os\n",
    "import pandas as pd\n",
    "import numpy as np"
   ]
  },
  {
   "cell_type": "code",
   "execution_count": 2,
   "metadata": {},
   "outputs": [
    {
     "data": {
      "text/plain": [
       "['validated_sentences.tsv',\n",
       " '.DS_Store',\n",
       " 'clips',\n",
       " 'unvalidated_sentences.tsv',\n",
       " 'validated.tsv',\n",
       " 'clip_durations.tsv',\n",
       " 'other.tsv',\n",
       " 'reported.tsv',\n",
       " 'invalidated.tsv']"
      ]
     },
     "execution_count": 2,
     "metadata": {},
     "output_type": "execute_result"
    }
   ],
   "source": [
    "data_path = \"../Dataset/cv-corpus-20.0-delta-2024-12-06/en/\"\n",
    "\n",
    "os.listdir(data_path)"
   ]
  },
  {
   "cell_type": "markdown",
   "metadata": {},
   "source": [
    "## Dictionaries\n",
    "- validated_sentences.tsv\n",
    "- unvalidated_sentences.tsv\n",
    "- validated.tsv\n",
    "- clip_durations.tsv\n",
    "- other.tsv\n",
    "- reported.tsv\n",
    "- invalidated.tsv"
   ]
  },
  {
   "cell_type": "code",
   "execution_count": 3,
   "metadata": {},
   "outputs": [
    {
     "data": {
      "text/plain": [
       "(1675168, 6)"
      ]
     },
     "execution_count": 3,
     "metadata": {},
     "output_type": "execute_result"
    }
   ],
   "source": [
    "validated_sentences = pd.read_csv(data_path + \"validated_sentences.tsv\", sep=\"\\t\")\n",
    "validated_sentences.shape"
   ]
  },
  {
   "cell_type": "code",
   "execution_count": 4,
   "metadata": {},
   "outputs": [
    {
     "data": {
      "text/plain": [
       "sentence_id        00096855bf293f19ffc573be5ce24a1514c176f0bf1bee...\n",
       "sentence                 Oh well, I'll just set up in another Qdoba.\n",
       "sentence_domain                                                  NaN\n",
       "source                                                 Self Citation\n",
       "is_used                                                            1\n",
       "clips_count                                                        0\n",
       "Name: 0, dtype: object"
      ]
     },
     "execution_count": 4,
     "metadata": {},
     "output_type": "execute_result"
    }
   ],
   "source": [
    "validated_sentences.iloc[0]"
   ]
  },
  {
   "cell_type": "code",
   "execution_count": 5,
   "metadata": {},
   "outputs": [],
   "source": [
    "# We will work only with validates sentences\n",
    "validated_sentences_ids = validated_sentences[\"sentence_id\"].values"
   ]
  },
  {
   "cell_type": "code",
   "execution_count": 6,
   "metadata": {},
   "outputs": [
    {
     "data": {
      "text/plain": [
       "(33101, 4)"
      ]
     },
     "execution_count": 6,
     "metadata": {},
     "output_type": "execute_result"
    }
   ],
   "source": [
    "unvalidated_sentences = pd.read_csv(data_path + \"unvalidated_sentences.tsv\", sep=\"\\t\")\n",
    "unvalidated_sentences.shape"
   ]
  },
  {
   "cell_type": "code",
   "execution_count": 7,
   "metadata": {},
   "outputs": [
    {
     "data": {
      "text/plain": [
       "sentence_id        00027996d48af96a15417e61bdf0b3b11fc250545715bd...\n",
       "sentence           Dana Hourani - Dana Hourani is a lifestyle blo...\n",
       "sentence_domain                                                  NaN\n",
       "source             https://hf.co/datasets/nyuuzyou/chatgpt-in-rus...\n",
       "Name: 0, dtype: object"
      ]
     },
     "execution_count": 7,
     "metadata": {},
     "output_type": "execute_result"
    }
   ],
   "source": [
    "unvalidated_sentences.iloc[0]"
   ]
  },
  {
   "cell_type": "code",
   "execution_count": 8,
   "metadata": {},
   "outputs": [
    {
     "name": "stdout",
     "output_type": "stream",
     "text": [
      "(250, 13)\n"
     ]
    }
   ],
   "source": [
    "# This file could be replaced with other.tsv\n",
    "validated = pd.read_csv(data_path + \"validated.tsv\", sep=\"\\t\")\n",
    "print(validated.shape) # Only 250 audios are in this dataset. The 250 audios present in validated_sentences"
   ]
  },
  {
   "cell_type": "code",
   "execution_count": 9,
   "metadata": {},
   "outputs": [
    {
     "data": {
      "text/plain": [
       "client_id          031903093b6fa1aeb0a243843eb9ed57baf6e99d1f8f92...\n",
       "path                                    common_voice_en_41383256.mp3\n",
       "sentence_id        f19a785911b1a3b1338e3eb5cc785e58b8381d21ec7c33...\n",
       "sentence           The outer rim has undergone some erosion due t...\n",
       "sentence_domain                                                  NaN\n",
       "up_votes                                                           2\n",
       "down_votes                                                         0\n",
       "age                                                              NaN\n",
       "gender                                                           NaN\n",
       "accents                                                          NaN\n",
       "variant                                                          NaN\n",
       "locale                                                            en\n",
       "segment                                                          NaN\n",
       "Name: 0, dtype: object"
      ]
     },
     "execution_count": 9,
     "metadata": {},
     "output_type": "execute_result"
    }
   ],
   "source": [
    "validated.iloc[0]"
   ]
  },
  {
   "cell_type": "code",
   "execution_count": 10,
   "metadata": {},
   "outputs": [
    {
     "data": {
      "text/plain": [
       "(27408, 2)"
      ]
     },
     "execution_count": 10,
     "metadata": {},
     "output_type": "execute_result"
    }
   ],
   "source": [
    "clip_durations = pd.read_csv(data_path + \"clip_durations.tsv\", sep=\"\\t\")\n",
    "clip_durations.shape"
   ]
  },
  {
   "cell_type": "code",
   "execution_count": 11,
   "metadata": {},
   "outputs": [
    {
     "data": {
      "text/plain": [
       "clip            common_voice_en_41447677.mp3\n",
       "duration[ms]                            6660\n",
       "Name: 0, dtype: object"
      ]
     },
     "execution_count": 11,
     "metadata": {},
     "output_type": "execute_result"
    }
   ],
   "source": [
    "clip_durations.iloc[0] # It's not clear how we can match the information between files!"
   ]
  },
  {
   "cell_type": "code",
   "execution_count": 12,
   "metadata": {},
   "outputs": [
    {
     "data": {
      "text/plain": [
       "(27087, 13)"
      ]
     },
     "execution_count": 12,
     "metadata": {},
     "output_type": "execute_result"
    }
   ],
   "source": [
    "other = pd.read_csv(data_path + \"other.tsv\", sep=\"\\t\")\n",
    "other.shape"
   ]
  },
  {
   "cell_type": "code",
   "execution_count": 13,
   "metadata": {},
   "outputs": [
    {
     "data": {
      "text/plain": [
       "client_id          0b58339ed9062b97e92c9cc6a5d46f8a517bdd8f5d6b83...\n",
       "path                                    common_voice_en_41236242.mp3\n",
       "sentence_id        f1662e17d5758c78c88f7ccd83a54d93c2bfbbfd0cb6ea...\n",
       "sentence           She studied theatre and spent time as a direct...\n",
       "sentence_domain                                                  NaN\n",
       "up_votes                                                           0\n",
       "down_votes                                                         0\n",
       "age                                                              NaN\n",
       "gender                                                           NaN\n",
       "accents                                                          NaN\n",
       "variant                                                          NaN\n",
       "locale                                                            en\n",
       "segment                                                          NaN\n",
       "Name: 0, dtype: object"
      ]
     },
     "execution_count": 13,
     "metadata": {},
     "output_type": "execute_result"
    }
   ],
   "source": [
    "other.iloc[0] "
   ]
  },
  {
   "cell_type": "code",
   "execution_count": 14,
   "metadata": {},
   "outputs": [
    {
     "data": {
      "text/plain": [
       "client_id          0.000000\n",
       "path               0.000000\n",
       "sentence_id        0.000000\n",
       "sentence           0.000000\n",
       "sentence_domain    0.998191\n",
       "up_votes           0.000000\n",
       "down_votes         0.000000\n",
       "age                0.253627\n",
       "gender             0.565474\n",
       "accents            0.528150\n",
       "variant            1.000000\n",
       "locale             0.000000\n",
       "segment            1.000000\n",
       "dtype: float64"
      ]
     },
     "execution_count": 14,
     "metadata": {},
     "output_type": "execute_result"
    }
   ],
   "source": [
    "# We have age information for 75% of the data and gender information for 43%\n",
    "# sentence_domain, variant and segment are useless.\n",
    "other.isna().mean()"
   ]
  },
  {
   "cell_type": "code",
   "execution_count": 15,
   "metadata": {},
   "outputs": [
    {
     "name": "stdout",
     "output_type": "stream",
     "text": [
      "0\n"
     ]
    },
    {
     "data": {
      "text/plain": [
       "1648601"
      ]
     },
     "execution_count": 15,
     "metadata": {},
     "output_type": "execute_result"
    }
   ],
   "source": [
    "# All the files in other are in validated_sentences\n",
    "print(len(set(other[\"sentence_id\"].values) - set(validated_sentences_ids)))\n",
    "# validated_sentences has 1'648.601 files that are not in other\n",
    "len(set(validated_sentences_ids) - set(other[\"sentence_id\"].values))"
   ]
  },
  {
   "cell_type": "code",
   "execution_count": 16,
   "metadata": {},
   "outputs": [
    {
     "data": {
      "text/plain": [
       "(124, 4)"
      ]
     },
     "execution_count": 16,
     "metadata": {},
     "output_type": "execute_result"
    }
   ],
   "source": [
    "reported = pd.read_csv(data_path + \"reported.tsv\", sep=\"\\t\")\n",
    "reported.shape"
   ]
  },
  {
   "cell_type": "code",
   "execution_count": 17,
   "metadata": {},
   "outputs": [
    {
     "data": {
      "text/plain": [
       "sentence_id    1bdd4311452a2877c0debda1718696a680f73d6feeffa4...\n",
       "sentence       Minu lemmiktegelane läbi aegade on Katniss Eve...\n",
       "locale                                                        en\n",
       "reason                                     sc-different-language\n",
       "Name: 0, dtype: object"
      ]
     },
     "execution_count": 17,
     "metadata": {},
     "output_type": "execute_result"
    }
   ],
   "source": [
    "reported.iloc[0]"
   ]
  },
  {
   "cell_type": "code",
   "execution_count": 18,
   "metadata": {},
   "outputs": [
    {
     "data": {
      "text/plain": [
       "(63, 13)"
      ]
     },
     "execution_count": 18,
     "metadata": {},
     "output_type": "execute_result"
    }
   ],
   "source": [
    "invalidated = pd.read_csv(data_path + \"invalidated.tsv\", sep=\"\\t\")\n",
    "invalidated.shape"
   ]
  },
  {
   "cell_type": "code",
   "execution_count": 19,
   "metadata": {},
   "outputs": [
    {
     "data": {
      "text/plain": [
       "client_id          29b8505586cd43382cd695da6b943f401104be710a5b60...\n",
       "path                                    common_voice_en_41281293.mp3\n",
       "sentence_id        f17037ded2368b480137e6de57109b67c2c41efb3b8ce0...\n",
       "sentence           He also contributed to the leading Hebrew and ...\n",
       "sentence_domain                                                  NaN\n",
       "up_votes                                                           0\n",
       "down_votes                                                         2\n",
       "age                                                         fourties\n",
       "gender                                               female_feminine\n",
       "accents                                             Scottish English\n",
       "variant                                                          NaN\n",
       "locale                                                            en\n",
       "segment                                                          NaN\n",
       "Name: 0, dtype: object"
      ]
     },
     "execution_count": 19,
     "metadata": {},
     "output_type": "execute_result"
    }
   ],
   "source": [
    "invalidated.iloc[0]"
   ]
  },
  {
   "cell_type": "code",
   "execution_count": 20,
   "metadata": {},
   "outputs": [],
   "source": [
    "# Cleaning validated sentences\n",
    "corrupt_ids = pd.concat([invalidated[\"sentence_id\"], reported[\"sentence_id\"]]).reset_index(drop = True)\n",
    "corrupt_ids = corrupt_ids[corrupt_ids.notna()].values\n",
    "\n",
    "# New validated_sentences_ids\n",
    "validated_sentences_ids = list(set(validated_sentences_ids) - set(corrupt_ids))"
   ]
  }
 ],
 "metadata": {
  "kernelspec": {
   "display_name": "base",
   "language": "python",
   "name": "python3"
  },
  "language_info": {
   "codemirror_mode": {
    "name": "ipython",
    "version": 3
   },
   "file_extension": ".py",
   "mimetype": "text/x-python",
   "name": "python",
   "nbconvert_exporter": "python",
   "pygments_lexer": "ipython3",
   "version": "3.12.2"
  }
 },
 "nbformat": 4,
 "nbformat_minor": 2
}
