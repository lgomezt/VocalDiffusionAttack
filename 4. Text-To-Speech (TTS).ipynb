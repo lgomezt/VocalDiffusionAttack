{
 "cells": [
  {
   "cell_type": "markdown",
   "metadata": {},
   "source": [
    "# Text-To-Speech (TTS)"
   ]
  },
  {
   "cell_type": "code",
   "execution_count": null,
   "metadata": {},
   "outputs": [],
   "source": [
    "# !huggingface-cli download fishaudio/fish-speech-1.5 --local-dir checkpoints/fish-speech-1.5/"
   ]
  },
  {
   "cell_type": "code",
   "execution_count": null,
   "metadata": {},
   "outputs": [],
   "source": [
    "import os\n",
    "import pandas as pd\n",
    "from tqdm import tqdm\n",
    "import re\n",
    "from subprocess import run"
   ]
  },
  {
   "cell_type": "code",
   "execution_count": null,
   "metadata": {},
   "outputs": [],
   "source": [
    "# Load transcriptions\n",
    "transcriptions = pd.read_csv(\"../Dataset/Transcriptions/transcriptions_complete.csv\")\n",
    "transcriptions = transcriptions.sort_values(\"confidence\", ascending=False).reset_index(drop = True)\n",
    "transcriptions.head()"
   ]
  },
  {
   "cell_type": "code",
   "execution_count": null,
   "metadata": {},
   "outputs": [],
   "source": [
    "# Parameters\n",
    "watermark_path = \"../Dataset/Watermarked Audio\"\n",
    "target_sr = 16000\n",
    "\n",
    "# List files once\n",
    "watermarked_files = os.listdir(watermark_path)\n",
    "current_progress = os.listdir()\n",
    "\n",
    "# Get list of already processed clips\n",
    "current_progress2 = [\n",
    "    re.findall(\"common_voice_en_\\\\d+\", f)[0] + \".mp3\"\n",
    "    for f in current_progress\n",
    "    if \"common_voice_en_\" in f\n",
    "]\n",
    "\n",
    "# Filter only missing transcriptions\n",
    "transcriptions = transcriptions.loc[\n",
    "    ~transcriptions[\"clip\"].isin(current_progress2)\n",
    "].reset_index(drop=True)\n",
    "\n",
    "# Build a lookup dict to avoid linear search in every iteration\n",
    "watermarked_lookup = {\n",
    "    re.sub(r\"_watermarked.*\", \"\", f): f for f in watermarked_files\n",
    "}"
   ]
  },
  {
   "cell_type": "code",
   "execution_count": null,
   "metadata": {},
   "outputs": [],
   "source": [
    "transcriptions.shape"
   ]
  },
  {
   "cell_type": "code",
   "execution_count": null,
   "metadata": {},
   "outputs": [],
   "source": [
    "for _, row in tqdm(transcriptions.iterrows(), total=len(transcriptions)):\n",
    "    clip_path = row[\"clip\"]\n",
    "    transcript_i = row[\"transcription\"]\n",
    "\n",
    "    # Use lookup instead of search\n",
    "    clip_key = clip_path[:-4]\n",
    "    clip_water_path = watermarked_lookup.get(clip_key)\n",
    "\n",
    "    if not clip_water_path:\n",
    "        print(f\"Warning: No match for {clip_key}\")\n",
    "        continue\n",
    "\n",
    "    # Paths\n",
    "    src_audio = os.path.join(watermark_path, clip_water_path)\n",
    "    out_audio = clip_water_path.replace(\"watermarked\", \"unwatermarked\")\n",
    "\n",
    "    # Run inference (use subprocess.run for better control and error catching)\n",
    "    result = run([\n",
    "        \"python\", \"fish-speech-main/fish_speech/models/vqgan/inference.py\",\n",
    "        \"-i\", src_audio,\n",
    "        \"-o\", out_audio,\n",
    "        \"--checkpoint-path\", \"checkpoints/fish-speech-1.5/firefly-gan-vq-fsq-8x1024-21hz-generator.pth\",\n",
    "        \"-d\", \"cuda\"\n",
    "    ])\n",
    "\n",
    "    if result.returncode != 0:\n",
    "        print(f\"Error processing {src_audio}\")\n",
    "        continue"
   ]
  },
  {
   "cell_type": "code",
   "execution_count": null,
   "metadata": {},
   "outputs": [],
   "source": [
    "from IPython.display import Audio, display\n",
    "audio = Audio(filename='/Users/lucas/Library/CloudStorage/OneDrive-UniversityofWaterloo/2025-W/CS858 - Security & Privacy in Machine Learning/Project/Code/fish-speech-main/fake.wav')\n",
    "display(audio)"
   ]
  }
 ],
 "metadata": {
  "kernelspec": {
   "display_name": "VocalDiffusionAttack",
   "language": "python",
   "name": "python3"
  },
  "language_info": {
   "codemirror_mode": {
    "name": "ipython",
    "version": 3
   },
   "file_extension": ".py",
   "mimetype": "text/x-python",
   "name": "python",
   "nbconvert_exporter": "python",
   "pygments_lexer": "ipython3",
   "version": "3.12.9"
  }
 },
 "nbformat": 4,
 "nbformat_minor": 2
}
