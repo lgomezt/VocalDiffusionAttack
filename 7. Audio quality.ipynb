{
 "cells": [
  {
   "cell_type": "markdown",
   "id": "fbc50cb0",
   "metadata": {},
   "source": [
    "# Audio Quality\n",
    "We will use **PESQ (Perceptual Evaluation of Speech Quality)**, **STOI (Short-Time Objective Intelligibility)**, and **DNSMOS (Deep Noise Suppression Mean Opinion Score)** to evaluate audio quality after watermark removal.\n",
    "\n",
    "**PESQ** is a metric designed to simulate human perception of speech quality. It compares a reference (clean) signal to a degraded (processed) one, taking into account perceptual distortion, time alignment, and other audio artifacts. PESQ is widely used in audio codec evaluation and speech processing tasks. It is part of the ITU-T P.862 standard. The PESQ score typically ranges from 1.0 (bad quality) to 4.5 (excellent quality), with higher values indicating better perceived audio quality.\n",
    "\n",
    "**STOI** is a metric that estimates how intelligible a piece of speech is to human listeners. Unlike PESQ, which focuses on overall perceptual quality, STOI is specifically designed to predict the understandability of speech. It operates on short-time overlapping windows and compares the clean and processed signals. The score ranges from 0 to 1, where higher values indicate better intelligibility.\n",
    "\n",
    "**DNSMOS** is a non-intrusive, deep learning-based metric that estimates the quality of speech signals without requiring a reference audio. It predicts four scores: `ovrl_mos` (overall speech quality), `sig_mos` (speech signal quality), `bak_mos` (background noise quality), and `p808_mos` (an advanced perceptual metric). It is particularly useful in scenarios like speech enhancement or watermark removal where a clean reference is unavailable or hard to align. All scores typically range from 1 to 5, with higher being better.\n",
    "\n",
    "\n",
    "Here is a reference table for interpreting PESQ, STOI and DNSMOS scores:\n",
    "\n",
    "| Metric     | Range       | Measures                 | Bad    | Poor     | Fair     | Good     | Excellent |\n",
    "|------------|-------------|--------------------------|--------|----------|----------|----------|-----------|\n",
    "| PESQ       | 1.0 – 4.5   | Audio quality (ref-based)| <1.5   | 1.5–2.4  | 2.5–3.4  | 3.5–4.2  | 4.3–4.5   |\n",
    "| STOI       | 0.0 – 1.0   | Speech intelligibility   | <0.60  | 0.60–0.75| 0.75–0.85| 0.85–0.95| 0.95–1.00 |\n",
    "| DNSMOS     | 1.0 – 5.0   | Non-intrusive MOS scores | <2.0   | 2.0–2.9  | 3.0–3.5  | 3.6–4.3  | 4.4–5.0   |"
   ]
  },
  {
   "cell_type": "code",
   "execution_count": 1,
   "id": "a4ac3e09",
   "metadata": {},
   "outputs": [],
   "source": [
    "import os\n",
    "from pesq import pesq\n",
    "from scipy.io import wavfile\n",
    "from pystoi.stoi import stoi\n",
    "import re\n",
    "import numpy as np\n",
    "import pandas as pd\n",
    "from tqdm import tqdm\n",
    "import librosa\n",
    "from speechmos import dnsmos\n",
    "from concurrent.futures import ProcessPoolExecutor, as_completed"
   ]
  },
  {
   "cell_type": "code",
   "execution_count": 2,
   "id": "5c96c547",
   "metadata": {},
   "outputs": [
    {
     "name": "stdout",
     "output_type": "stream",
     "text": [
      "Audios to evaluate: 14,124\n",
      "Remaining clips 14,124 (100.0%)\n",
      "Last file number:  2\n"
     ]
    }
   ],
   "source": [
    "watermarked_path = \"../Dataset/Watermarked Audio\"\n",
    "unwatermarked_path = \"../Dataset/Unwatermarked Audio\"\n",
    "transcription_path = '../Dataset/Transcriptions/transcriptions_complete.csv'\n",
    "results_path = '../Dataset/Results'\n",
    "\n",
    "# Get all filepaths\n",
    "unwatermarked_files = os.listdir(unwatermarked_path)\n",
    "unwatermarked_files = [i for i in unwatermarked_files if i[-4:] == \".mp3\"]\n",
    "unwatermarked_files = [i for i in unwatermarked_files if \"audioseal\" in i]\n",
    "\n",
    "watermarked_files = os.listdir(watermarked_path)\n",
    "watermarked_files = [i for i in watermarked_files if i[-4:] == \".mp3\"]\n",
    "watermarked_files = [i for i in watermarked_files if \"audioseal\" in i]\n",
    "\n",
    "# Helper to extract the ID from the filename\n",
    "def extract_id(filename):\n",
    "    match = re.search(r'common_voice_en_(\\d+)', filename)\n",
    "    return match.group(1) if match else None\n",
    "\n",
    "# Build dicts by ID\n",
    "un_dict = {extract_id(f): f for f in unwatermarked_files}\n",
    "w_dict = {extract_id(f): f for f in watermarked_files}\n",
    "\n",
    "# Find common IDs and build a dict with (un, w) tuples\n",
    "matched = {id_: (un_dict[id_], w_dict[id_]) for id_ in un_dict.keys() & w_dict.keys()}\n",
    "\n",
    "print(f\"Audios to evaluate: {len(matched):0,.0f}\")\n",
    "\n",
    "# Find IDs already processed\n",
    "processed_ids = []\n",
    "last_file_num = 0\n",
    "for file in os.listdir(results_path):\n",
    "    file_path = os.path.join(results_path, file)\n",
    "    if file.startswith(\"results_audio_quality2_\"):\n",
    "        file_num = re.search(r'results_audio_quality2_(\\d+).csv', file).group(1)\n",
    "        last_file_num = np.max([int(file_num), last_file_num])\n",
    "        temp = pd.read_csv(file_path, usecols=[\"id\"])\n",
    "        processed_ids.extend(temp[\"id\"].astype(str).tolist())\n",
    "\n",
    "remaining_clips = list(matched.keys() - set(processed_ids))\n",
    "print(f\"Remaining clips {len(remaining_clips):0,.0f} ({len(remaining_clips)/len(matched.keys()):0.1%})\")\n",
    "print(\"Last file number: \", last_file_num)"
   ]
  },
  {
   "cell_type": "code",
   "execution_count": 3,
   "id": "265c16bb",
   "metadata": {},
   "outputs": [
    {
     "name": "stderr",
     "output_type": "stream",
     "text": [
      "  3%|▎         | 435/14124 [12:50<7:02:14,  1.85s/it] /opt/anaconda3/envs/VocalDiffusionAttack/lib/python3.12/site-packages/pystoi/stoi.py:66: RuntimeWarning: Not enough STFT frames to compute intermediate intelligibility measure after removing silent frames. Returning 1e-5. Please check you wav files\n",
      "  warnings.warn('Not enough STFT frames to compute intermediate '\n",
      "100%|██████████| 14124/14124 [1:20:52<00:00,  2.91it/s]\n"
     ]
    }
   ],
   "source": [
    "target_sr = 16000\n",
    "all_results = []\n",
    "column_names = [\"id\", \"pesq\", \"stoi\"]\n",
    "\n",
    "for n, i in tqdm(enumerate(remaining_clips[::-1]), total=len(remaining_clips)):\n",
    "    un, w = matched[i]\n",
    "    # Load the watermarked audio file\n",
    "    w_path = os.path.join(watermarked_path, w)\n",
    "    w_wav, sr = librosa.load(w_path, sr=target_sr)\n",
    "\n",
    "    # Load the unwatermarked audio file\n",
    "    un_path = os.path.join(unwatermarked_path, un)\n",
    "    un_wav, sr = librosa.load(un_path, sr=target_sr)\n",
    "\n",
    "    # trims both to the shorter length\n",
    "    min_len = min(len(w_wav), len(un_wav))\n",
    "    w_wav = w_wav[:min_len]\n",
    "    un_wav = un_wav[:min_len]\n",
    "\n",
    "    # Scores\n",
    "    try:\n",
    "        pesq_score = pesq(sr, w_wav, un_wav, 'wb')  # wb -> sr: 16k or nb -> sr: 8k\n",
    "        stoi_score = stoi(w_wav, un_wav, sr, extended=True)\n",
    "        result = [i, pesq_score, stoi_score]\n",
    "    except:\n",
    "        result = [np.nan]*len(column_names)\n",
    "\n",
    "    all_results.append(result)\n",
    "    # Save results every 1000 items or at the end\n",
    "    if (n % 1000 == 0 and n > 0) or (n == len(remaining_clips) - 1):\n",
    "        last_file_num += 1\n",
    "        results_df = pd.DataFrame(all_results, columns=column_names)\n",
    "        output_filename = f\"results_audio_quality2_{last_file_num}.csv\"\n",
    "        results_df.to_csv(os.path.join(results_path, output_filename), index=False)\n",
    "        all_results = []"
   ]
  }
 ],
 "metadata": {
  "kernelspec": {
   "display_name": "VocalDiffusionAttack",
   "language": "python",
   "name": "python3"
  },
  "language_info": {
   "codemirror_mode": {
    "name": "ipython",
    "version": 3
   },
   "file_extension": ".py",
   "mimetype": "text/x-python",
   "name": "python",
   "nbconvert_exporter": "python",
   "pygments_lexer": "ipython3",
   "version": "3.12.9"
  }
 },
 "nbformat": 4,
 "nbformat_minor": 5
}
